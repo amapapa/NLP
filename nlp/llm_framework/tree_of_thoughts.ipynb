{
  "cells": [
    {
      "cell_type": "markdown",
      "metadata": {
        "id": "H3ZqbB9y4-sN"
      },
      "source": [
        "# Tree-of-Thoughts"
      ]
    },
    {
      "cell_type": "markdown",
      "metadata": {
        "id": "epBbWR5Q4-sO"
      },
      "source": [
        "https://github.com/princeton-nlp/tree-of-thought-llm"
      ]
    },
    {
      "cell_type": "markdown",
      "metadata": {
        "id": "GaO584ca4-sO"
      },
      "source": [
        "[![Open In Colab](https://colab.research.google.com/assets/colab-badge.svg)](https://colab.research.google.com/github/fuyu-quant/data-science-wiki/blob/main/nlp/llm_framework/tree_of_thoughts.ipynb)"
      ]
    },
    {
      "cell_type": "code",
      "execution_count": null,
      "metadata": {
        "id": "vhZTut4o4-sP"
      },
      "outputs": [],
      "source": [
        "%%capture\n",
        "!pip install tree-of-thoughts-llm"
      ]
    },
    {
      "cell_type": "code",
      "execution_count": null,
      "metadata": {
        "id": "9lAtxF-94-sP"
      },
      "outputs": [],
      "source": [
        "import argparse\n",
        "\n",
        "from tot.methods.bfs import solve\n",
        "from tot.tasks.game24 import Game24Task"
      ]
    },
    {
      "cell_type": "code",
      "execution_count": null,
      "metadata": {
        "id": "8hq2YWaI4-sP",
        "outputId": "c6f3b113-6366-4b38-b977-2cb07cf63ab9"
      },
      "outputs": [
        {
          "data": {
            "text/plain": [
              "<tot.tasks.game24.Game24Task at 0x13e011b80>"
            ]
          },
          "execution_count": 5,
          "metadata": {},
          "output_type": "execute_result"
        }
      ],
      "source": [
        "task = Game24Task()\n",
        "task"
      ]
    },
    {
      "cell_type": "markdown",
      "metadata": {
        "id": "QFIq_dZ74-sP"
      },
      "source": [
        "### Normal use of GPT-4"
      ]
    },
    {
      "cell_type": "code",
      "execution_count": null,
      "metadata": {
        "id": "Dk8xNFNj4-sP"
      },
      "outputs": [],
      "source": [
        "%%capture\n",
        "!pip install langchain\n",
        "!pip install openai"
      ]
    },
    {
      "cell_type": "code",
      "execution_count": null,
      "metadata": {
        "id": "0JY_gjQD4-sQ"
      },
      "outputs": [],
      "source": [
        "from langchain.llms import OpenAI"
      ]
    },
    {
      "cell_type": "code",
      "execution_count": null,
      "metadata": {
        "id": "9CQpmWHG4-sQ",
        "outputId": "ab089b41-e6f7-464a-f530-a0d60eb93846"
      },
      "outputs": [
        {
          "name": "stderr",
          "output_type": "stream",
          "text": [
            "/Users/tanakatouma/vscode/data-science-wiki/.venv/lib/python3.9/site-packages/langchain/llms/openai.py:202: UserWarning: You are trying to use a chat model. This way of initializing it is no longer supported. Instead, please use: `from langchain.chat_models import ChatOpenAI`\n",
            "  warnings.warn(\n",
            "/Users/tanakatouma/vscode/data-science-wiki/.venv/lib/python3.9/site-packages/langchain/llms/openai.py:790: UserWarning: You are trying to use a chat model. This way of initializing it is no longer supported. Instead, please use: `from langchain.chat_models import ChatOpenAI`\n",
            "  warnings.warn(\n"
          ]
        }
      ],
      "source": [
        "model_name=\"gpt-4\"\n",
        "llm = OpenAI(temperature=0, model_name=model_name)"
      ]
    },
    {
      "cell_type": "code",
      "execution_count": null,
      "metadata": {
        "id": "v3Ws-pwz4-sQ",
        "outputId": "eb9a7c97-2f73-46ca-a67a-669f2d44daab"
      },
      "outputs": [
        {
          "name": "stdout",
          "output_type": "stream",
          "text": [
            "Sure, here is a formula:\n",
            "\n",
            "(10 - 4) * 6 - 5 = 24\n"
          ]
        }
      ],
      "source": [
        "prompt = \"Can you give me a formula that uses all 4,5,6,10 and only four arithmetic operations and the answer is 24?\"\n",
        "\n",
        "output = llm(prompt)\n",
        "print(output)"
      ]
    },
    {
      "cell_type": "markdown",
      "metadata": {
        "id": "GIt7gJMR4-sQ"
      },
      "source": [
        "### Tree of Thoughts"
      ]
    },
    {
      "cell_type": "code",
      "execution_count": null,
      "metadata": {
        "id": "9NNcWCD94-sQ"
      },
      "outputs": [],
      "source": [
        "args = argparse.Namespace(backend='gpt-4',\n",
        "                          temperature=0.7,\n",
        "                          n_generate_sample=1,\n",
        "                          n_evaluate_sample=3,\n",
        "                          n_select_sample=5,\n",
        "                          method_generate='propose',\n",
        "                          method_evaluate='value',\n",
        "                          method_select='greedy'\n",
        "                          )"
      ]
    },
    {
      "cell_type": "code",
      "execution_count": null,
      "metadata": {
        "id": "Y8GMSDWG4-sQ",
        "outputId": "2b6970a2-40c0-4047-8d03-55f96296a08d"
      },
      "outputs": [
        {
          "name": "stdout",
          "output_type": "stream",
          "text": [
            "functools.partial(<function gpt at 0x1092e6b80>, model='gpt-4', temperature=0.7)\n",
            "-- new_ys --: ('10 - 4 = 6 (left: 5 6 6)\\n', '10 - 6 = 4 (left: 4 4 5)\\n', '4 + 5 = 9 (left: 6 9 10)\\n', '5 + 6 = 11 (left: 4 10 11)\\n', '4 * 6 = 24 (left: 5 10 24)\\n', '6 - 4 = 2 (left: 2 5 10)\\n', '6 / 4 = 1.5 (left: 1.5 5 10)\\n', '4 * 5 = 20 (left: 6 10 20)\\n', '6 * 5 = 30 (left: 4 10 30)\\n', '10 / 5 = 2 (left: 2 4 6)\\n', '10 * 5 = 50 (left: 4 6 50)\\n', '10 * 4 = 40 (left: 5 6 40)\\n')\n",
            "-- sol values --: (3.0, 3.0, 2.001, 2.001, 2.001, 1.002, 1.002, 1.002, 1.001, 0.003, 0.003, 0.003)\n",
            "-- choices --: ['10 - 4 = 6 (left: 5 6 6)\\n', '10 - 6 = 4 (left: 4 4 5)\\n', '4 + 5 = 9 (left: 6 9 10)\\n', '5 + 6 = 11 (left: 4 10 11)\\n', '4 * 6 = 24 (left: 5 10 24)\\n']\n",
            "\n",
            "-- new_ys --: ('10 - 4 = 6 (left: 5 6 6)\\n5 * 6 = 30 (left: 6 30)\\n', '4 * 6 = 24 (left: 5 10 24)\\n24 / 5 = 4.8 (left: 4.8 10)\\n', '4 + 5 = 9 (left: 6 9 10)\\n10 / 6 = 1.666... (left: 1.666... 9)\\n', '4 + 5 = 9 (left: 6 9 10)\\n10 / 9 = 1.111... (left: 1.111... 6)\\n', '5 + 6 = 11 (left: 4 10 11)\\n10 / 4 = 2.5 (left: 2.5 11)\\n', '10 - 4 = 6 (left: 5 6 6)\\n5 + 6 = 11 (left: 6 11)\\n', '10 - 4 = 6 (left: 5 6 6)\\n6 - 5 = 1 (left: 1 6)\\n', '10 - 4 = 6 (left: 5 6 6)\\n6 / 5 = 1.2 (left: 1.2 6)\\n', '10 - 6 = 4 (left: 4 4 5)\\n4 + 4 = 8 (left: 5 8)\\n', '10 - 6 = 4 (left: 4 4 5)\\n4 * 4 = 16 (left: 5 16)\\n', '10 - 6 = 4 (left: 4 4 5)\\n5 - 4 = 1 (left: 1 4)\\n', '10 - 6 = 4 (left: 4 4 5)\\n5 + 4 = 9 (left: 4 9)\\n', '10 - 6 = 4 (left: 4 4 5)\\n4 / 4 = 1 (left: 1 5)\\n', '4 + 5 = 9 (left: 6 9 10)\\n6 + 9 = 15 (left: 10 15)\\n', '4 + 5 = 9 (left: 6 9 10)\\n9 - 6 = 3 (left: 3 10)\\n', '4 + 5 = 9 (left: 6 9 10)\\n10 - 6 = 4 (left: 4 9)\\n', '4 + 5 = 9 (left: 6 9 10)\\n10 - 9 = 1 (left: 1 6)\\n', '4 + 5 = 9 (left: 6 9 10)\\n9 / 6 = 1.5 (left: 1.5 10)\\n', '4 + 5 = 9 (left: 6 9 10)\\n6 * 9 = 54 (left: 10 54)\\n', '4 + 5 = 9 (left: 6 9 10)\\n10 * 6 = 60 (left: 9 60)\\n', '4 + 5 = 9 (left: 6 9 10)\\n10 * 9 = 90 (left: 6 90)\\n', '5 + 6 = 11 (left: 4 10 11)\\n4 + 10 = 14 (left: 11 14)\\n', '5 + 6 = 11 (left: 4 10 11)\\n10 - 4 = 6 (left: 6 11)\\n', '5 + 6 = 11 (left: 4 10 11)\\n11 - 4 = 7 (left: 7 10)\\n', '5 + 6 = 11 (left: 4 10 11)\\n11 - 10 = 1 (left: 1 4)\\n', '5 + 6 = 11 (left: 4 10 11)\\n4 * 10 = 40 (left: 11 40)\\n', '5 + 6 = 11 (left: 4 10 11)\\n11 + 4 = 15 (left: 10 15)\\n', '5 + 6 = 11 (left: 4 10 11)\\n10 + 4 = 14 (left: 11 14)\\n', '4 * 6 = 24 (left: 5 10 24)\\n5 + 10 = 15 (left: 15 24)\\n', '4 * 6 = 24 (left: 5 10 24)\\n10 - 5 = 5 (left: 5 24)\\n', '4 * 6 = 24 (left: 5 10 24)\\n24 - 5 = 19 (left: 10 19)\\n', '4 * 6 = 24 (left: 5 10 24)\\n24 - 10 = 14 (left: 5 14)\\n', '4 * 6 = 24 (left: 5 10 24)\\n10 * 5 = 50 (left: 24 50)\\n', '4 * 6 = 24 (left: 5 10 24)\\n24 / 10 = 2.4 (left: 2.4 5)\\n', '4 * 6 = 24 (left: 5 10 24)\\n5 * 10 = 50 (left: 24 50)\\n', '4 * 6 = 24 (left: 5 10 24)\\n24 + 5 = 29 (left: 10 29)\\n', '4 * 6 = 24 (left: 5 10 24)\\n24 + 10 = 34 (left: 5 34)\\n')\n",
            "-- sol values --: (60.0, 2.001, 1.002, 1.002, 1.002, 0.003, 0.003, 0.003, 0.003, 0.003, 0.003, 0.003, 0.003, 0.003, 0.003, 0.003, 0.003, 0.003, 0.003, 0.003, 0.003, 0.003, 0.003, 0.003, 0.003, 0.003, 0.003, 0.003, 0.003, 0.003, 0.003, 0.003, 0.003, 0.003, 0.003, 0.003, 0.003)\n",
            "-- choices --: ['10 - 4 = 6 (left: 5 6 6)\\n5 * 6 = 30 (left: 6 30)\\n', '4 * 6 = 24 (left: 5 10 24)\\n24 / 5 = 4.8 (left: 4.8 10)\\n', '4 + 5 = 9 (left: 6 9 10)\\n10 / 6 = 1.666... (left: 1.666... 9)\\n', '4 + 5 = 9 (left: 6 9 10)\\n10 / 9 = 1.111... (left: 1.111... 6)\\n', '5 + 6 = 11 (left: 4 10 11)\\n10 / 4 = 2.5 (left: 2.5 11)\\n']\n",
            "\n",
            "-- new_ys --: ('10 - 4 = 6 (left: 5 6 6)\\n5 * 6 = 30 (left: 6 30)\\n30 - 6 = 24 (left: 24)\\n', '4 * 6 = 24 (left: 5 10 24)\\n24 / 5 = 4.8 (left: 4.8 10)\\n10 / 4.8 = 2.083 (left: 2.083)\\n', '4 * 6 = 24 (left: 5 10 24)\\n24 / 5 = 4.8 (left: 4.8 10)\\n4.8 * 10 = 48 (left: 48)\\n', '10 - 4 = 6 (left: 5 6 6)\\n5 * 6 = 30 (left: 6 30)\\n6 * 30 = 180 (left: 180)\\n', '10 - 4 = 6 (left: 5 6 6)\\n5 * 6 = 30 (left: 6 30)\\n30 / 6 = 5 (left: 5)\\n', '10 - 4 = 6 (left: 5 6 6)\\n5 * 6 = 30 (left: 6 30)\\n30 + 6 = 36 (left: 36)\\n', '4 * 6 = 24 (left: 5 10 24)\\n24 / 5 = 4.8 (left: 4.8 10)\\n4.8 + 10 = 14.8 (left: 14.8)\\n', '4 * 6 = 24 (left: 5 10 24)\\n24 / 5 = 4.8 (left: 4.8 10)\\n10 - 4.8 = 5.2 (left: 5.2)\\n', '4 + 5 = 9 (left: 6 9 10)\\n10 / 6 = 1.666... (left: 1.666... 9)\\n1.666... * 9 = 15 (left: 15)\\n', '4 + 5 = 9 (left: 6 9 10)\\n10 / 6 = 1.666... (left: 1.666... 9)\\n9 / 1.666... = 5.4 (left: 5.4)\\n', '4 + 5 = 9 (left: 6 9 10)\\n10 / 9 = 1.111... (left: 1.111... 6)\\n6 / 1.111... = 5.4 (left: 5.4)\\n', '5 + 6 = 11 (left: 4 10 11)\\n10 / 4 = 2.5 (left: 2.5 11)\\n2.5 + 11 = 13.5 (left: 13.5)\\n', '5 + 6 = 11 (left: 4 10 11)\\n10 / 4 = 2.5 (left: 2.5 11)\\n11 / 2.5 = 4.4 (left: 4.4)\\n', '4 + 5 = 9 (left: 6 9 10)\\n10 / 6 = 1.666... (left: 1.666... 9)\\n9 - 1.666... = 7.333... (left: 7.333...)\\n', '4 + 5 = 9 (left: 6 9 10)\\n10 / 9 = 1.111... (left: 1.111... 6)\\n6 - 1.111... = 4.888... (left: 4.888...)\\n', '4 + 5 = 9 (left: 6 9 10)\\n10 / 9 = 1.111... (left: 1.111... 6)\\n6 * 1.111... = 6.666... (left: 6.666...)\\n', '5 + 6 = 11 (left: 4 10 11)\\n10 / 4 = 2.5 (left: 2.5 11)\\n11 - 2.5 = 8.5 (left: 8.5)\\n', '5 + 6 = 11 (left: 4 10 11)\\n10 / 4 = 2.5 (left: 2.5 11)\\n2.5 * 11 = 27.5 (left: 27.5)\\n', '4 + 5 = 9 (left: 6 9 10)\\n10 / 6 = 1.666... (left: 1.666... 9)\\n1.666... + 9 = 10.666... (left: 10.666...)\\n', '4 + 5 = 9 (left: 6 9 10)\\n10 / 9 = 1.111... (left: 1.111... 6)\\n1.111... + 6 = 7.111... (left: 7.111...)\\n')\n",
            "-- sol values --: (40.0, 21.001, 20.001, 0.003, 0.003, 0.003, 0.003, 0.003, 0.003, 0.003, 0.003, 0.003, 0.003, 0.002, 0.002, 0.002, 0.002, 0.002, 0.0, 0.0)\n",
            "-- choices --: ['10 - 4 = 6 (left: 5 6 6)\\n5 * 6 = 30 (left: 6 30)\\n30 - 6 = 24 (left: 24)\\n', '4 * 6 = 24 (left: 5 10 24)\\n24 / 5 = 4.8 (left: 4.8 10)\\n10 / 4.8 = 2.083 (left: 2.083)\\n', '4 * 6 = 24 (left: 5 10 24)\\n24 / 5 = 4.8 (left: 4.8 10)\\n4.8 * 10 = 48 (left: 48)\\n', '10 - 4 = 6 (left: 5 6 6)\\n5 * 6 = 30 (left: 6 30)\\n6 * 30 = 180 (left: 180)\\n', '10 - 4 = 6 (left: 5 6 6)\\n5 * 6 = 30 (left: 6 30)\\n30 / 6 = 5 (left: 5)\\n']\n",
            "\n",
            "-- new_ys --: ('10 - 4 = 6 (left: 5 6 6)\\n5 * 6 = 30 (left: 6 30)\\n30 - 6 = 24 (left: 24)\\nAnswer: (5 * (10 - 4)) - 6 = 24\\n', '4 * 6 = 24 (left: 5 10 24)\\n24 / 5 = 4.8 (left: 4.8 10)\\n10 / 4.8 = 2.083 (left: 2.083)\\nThe input is a single number, so there are no possible next steps for mathematical operations with multiple numbers.\\n', '4 * 6 = 24 (left: 5 10 24)\\n24 / 5 = 4.8 (left: 4.8 10)\\n4.8 * 10 = 48 (left: 48)\\n10 + 8 = 18 (left: 14 18)\\n', '4 * 6 = 24 (left: 5 10 24)\\n24 / 5 = 4.8 (left: 4.8 10)\\n4.8 * 10 = 48 (left: 48)\\n4 + 8 = 12 (left: 14 12)\\n', '4 * 6 = 24 (left: 5 10 24)\\n24 / 5 = 4.8 (left: 4.8 10)\\n4.8 * 10 = 48 (left: 48)\\n16 - 8 = 8 (left: 8 8)\\n', '4 * 6 = 24 (left: 5 10 24)\\n24 / 5 = 4.8 (left: 4.8 10)\\n4.8 * 10 = 48 (left: 48)\\n6 + 8 = 14 (left: 14 14)\\n', '4 * 6 = 24 (left: 5 10 24)\\n24 / 5 = 4.8 (left: 4.8 10)\\n4.8 * 10 = 48 (left: 48)\\n6 + 2 = 8 (left: 8 8)\\n', '4 * 6 = 24 (left: 5 10 24)\\n24 / 5 = 4.8 (left: 4.8 10)\\n4.8 * 10 = 48 (left: 48)\\n7 + 8 = 15 (left: 8 15)\\n', '4 * 6 = 24 (left: 5 10 24)\\n24 / 5 = 4.8 (left: 4.8 10)\\n4.8 * 10 = 48 (left: 48)\\n12 + 8 = 20 (left: 8 20)\\n', '4 * 6 = 24 (left: 5 10 24)\\n24 / 5 = 4.8 (left: 4.8 10)\\n4.8 * 10 = 48 (left: 48)\\n12 - 8 = 4 (left: 4 8)\\n', '4 * 6 = 24 (left: 5 10 24)\\n24 / 5 = 4.8 (left: 4.8 10)\\n4.8 * 10 = 48 (left: 48)\\n18 * 2 = 36 (left: 14 36)\\n', '4 * 6 = 24 (left: 5 10 24)\\n24 / 5 = 4.8 (left: 4.8 10)\\n4.8 * 10 = 48 (left: 48)\\n12 * 4 = 48 (left: 14 48)\\n', '4 * 6 = 24 (left: 5 10 24)\\n24 / 5 = 4.8 (left: 4.8 10)\\n4.8 * 10 = 48 (left: 48)\\n8 * 6 = 48 (left: 2 48)\\n', '4 * 6 = 24 (left: 5 10 24)\\n24 / 5 = 4.8 (left: 4.8 10)\\n4.8 * 10 = 48 (left: 48)\\n7 * 8 = 56 (left: 8 56)\\n', '4 * 6 = 24 (left: 5 10 24)\\n24 / 5 = 4.8 (left: 4.8 10)\\n4.8 * 10 = 48 (left: 48)\\n8 * 8 = 64 (left: 14 64)\\n', '4 * 6 = 24 (left: 5 10 24)\\n24 / 5 = 4.8 (left: 4.8 10)\\n4.8 * 10 = 48 (left: 48)\\n8 * 12 = 96 (left: 8 96)\\n', '4 * 6 = 24 (left: 5 10 24)\\n24 / 5 = 4.8 (left: 4.8 10)\\n4.8 * 10 = 48 (left: 48)\\n14 * 18 = 252 (left: 252)\\n', '4 * 6 = 24 (left: 5 10 24)\\n24 / 5 = 4.8 (left: 4.8 10)\\n4.8 * 10 = 48 (left: 48)\\n12 * 20 = 240 (left: 8 240)\\n', '10 - 4 = 6 (left: 5 6 6)\\n5 * 6 = 30 (left: 6 30)\\n6 * 30 = 180 (left: 180)\\n10 * 14 = 140 (left: 8 8 140)\\n', '10 - 4 = 6 (left: 5 6 6)\\n5 * 6 = 30 (left: 6 30)\\n6 * 30 = 180 (left: 180)\\n14 * 8 = 112 (left: 2 8 112)\\n', '10 - 4 = 6 (left: 5 6 6)\\n5 * 6 = 30 (left: 6 30)\\n6 * 30 = 180 (left: 180)\\n14 * 10 = 140 (left: 2 8 140)\\n', '10 - 4 = 6 (left: 5 6 6)\\n5 * 6 = 30 (left: 6 30)\\n6 * 30 = 180 (left: 180)\\n140 + 40 = 180 (left: 8 8 180)\\n', '10 - 4 = 6 (left: 5 6 6)\\n5 * 6 = 30 (left: 6 30)\\n6 * 30 = 180 (left: 180)\\n140 + 8 = 148 (left: 2 8 148)\\n', '10 - 4 = 6 (left: 5 6 6)\\n5 * 6 = 30 (left: 6 30)\\n6 * 30 = 180 (left: 180)\\n112 + 68 = 180 (left: 2 8 180)\\n', '10 - 4 = 6 (left: 5 6 6)\\n5 * 6 = 30 (left: 6 30)\\n6 * 30 = 180 (left: 180)\\n112 + 8 = 120 (left: 2 8 120)\\n', '10 - 4 = 6 (left: 5 6 6)\\n5 * 6 = 30 (left: 6 30)\\n6 * 30 = 180 (left: 180)\\n140 - 8 = 132 (left: 2 8 132)\\n', '10 - 4 = 6 (left: 5 6 6)\\n5 * 6 = 30 (left: 6 30)\\n6 * 30 = 180 (left: 180)\\n140 / 8 = 17.5 (left: 2 8 17.5)\\n', '10 - 4 = 6 (left: 5 6 6)\\n5 * 6 = 30 (left: 6 30)\\n6 * 30 = 180 (left: 180)\\n140 * 8 = 1120 (left: 2 8 1120)\\n', '10 - 4 = 6 (left: 5 6 6)\\n5 * 6 = 30 (left: 6 30)\\n30 / 6 = 5 (left: 5)\\nNo possible next steps as there is only one number.\\n')\n",
            "-- sol values --: (60.0, 0, 0, 0, 0, 0, 0, 0, 0, 0, 0, 0, 0, 0, 0, 0, 0, 0, 0, 0, 0, 0, 0, 0, 0, 0, 0, 0, 0)\n",
            "-- choices --: ['10 - 4 = 6 (left: 5 6 6)\\n5 * 6 = 30 (left: 6 30)\\n30 - 6 = 24 (left: 24)\\nAnswer: (5 * (10 - 4)) - 6 = 24\\n', '4 * 6 = 24 (left: 5 10 24)\\n24 / 5 = 4.8 (left: 4.8 10)\\n10 / 4.8 = 2.083 (left: 2.083)\\nThe input is a single number, so there are no possible next steps for mathematical operations with multiple numbers.\\n', '4 * 6 = 24 (left: 5 10 24)\\n24 / 5 = 4.8 (left: 4.8 10)\\n4.8 * 10 = 48 (left: 48)\\n10 + 8 = 18 (left: 14 18)\\n', '4 * 6 = 24 (left: 5 10 24)\\n24 / 5 = 4.8 (left: 4.8 10)\\n4.8 * 10 = 48 (left: 48)\\n4 + 8 = 12 (left: 14 12)\\n', '4 * 6 = 24 (left: 5 10 24)\\n24 / 5 = 4.8 (left: 4.8 10)\\n4.8 * 10 = 48 (left: 48)\\n16 - 8 = 8 (left: 8 8)\\n']\n",
            "\n",
            "['10 - 4 = 6 (left: 5 6 6)\\n5 * 6 = 30 (left: 6 30)\\n30 - 6 = 24 (left: 24)\\nAnswer: (5 * (10 - 4)) - 6 = 24\\n', '4 * 6 = 24 (left: 5 10 24)\\n24 / 5 = 4.8 (left: 4.8 10)\\n10 / 4.8 = 2.083 (left: 2.083)\\nThe input is a single number, so there are no possible next steps for mathematical operations with multiple numbers.\\n', '4 * 6 = 24 (left: 5 10 24)\\n24 / 5 = 4.8 (left: 4.8 10)\\n4.8 * 10 = 48 (left: 48)\\n10 + 8 = 18 (left: 14 18)\\n', '4 * 6 = 24 (left: 5 10 24)\\n24 / 5 = 4.8 (left: 4.8 10)\\n4.8 * 10 = 48 (left: 48)\\n4 + 8 = 12 (left: 14 12)\\n', '4 * 6 = 24 (left: 5 10 24)\\n24 / 5 = 4.8 (left: 4.8 10)\\n4.8 * 10 = 48 (left: 48)\\n16 - 8 = 8 (left: 8 8)\\n']\n"
          ]
        }
      ],
      "source": [
        "task = Game24Task()\n",
        "\n",
        "# Tree of Thoughts\n",
        "ys, infos = solve(args, task, 900)"
      ]
    },
    {
      "cell_type": "code",
      "execution_count": null,
      "metadata": {
        "id": "X9pngwHZ4-sQ",
        "outputId": "2e0f9819-5d42-4408-8eb7-3e7860be6659"
      },
      "outputs": [
        {
          "name": "stdout",
          "output_type": "stream",
          "text": [
            "10 - 4 = 6 (left: 5 6 6)\n",
            "5 * 6 = 30 (left: 6 30)\n",
            "30 - 6 = 24 (left: 24)\n",
            "Answer: (5 * (10 - 4)) - 6 = 24\n",
            "\n"
          ]
        }
      ],
      "source": [
        "print(ys[0])"
      ]
    }
  ],
  "metadata": {
    "kernelspec": {
      "display_name": "Python 3.9.18 ('.venv': poetry)",
      "language": "python",
      "name": "python3"
    },
    "language_info": {
      "codemirror_mode": {
        "name": "ipython",
        "version": 3
      },
      "file_extension": ".py",
      "mimetype": "text/x-python",
      "name": "python",
      "nbconvert_exporter": "python",
      "pygments_lexer": "ipython3",
      "version": "3.9.18"
    },
    "orig_nbformat": 4,
    "vscode": {
      "interpreter": {
        "hash": "17a011378fed683b21aba93e5dd7c0cb7beefc09c5af72c6425b40c713e260dc"
      }
    },
    "colab": {
      "provenance": [],
      "toc_visible": true
    }
  },
  "nbformat": 4,
  "nbformat_minor": 0
}